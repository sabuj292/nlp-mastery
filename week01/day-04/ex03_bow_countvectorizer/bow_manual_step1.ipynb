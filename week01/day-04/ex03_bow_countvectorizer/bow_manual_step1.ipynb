{
 "cells": [
  {
   "cell_type": "code",
   "execution_count": 1,
   "id": "5ca7a79a",
   "metadata": {},
   "outputs": [],
   "source": [
    "import re\n",
    "from pathlib import Path"
   ]
  },
  {
   "cell_type": "code",
   "execution_count": 2,
   "id": "9e7f4644",
   "metadata": {},
   "outputs": [],
   "source": [
    "p = Path(\"data/tiny_corpus.txt\")\n",
    "docs = [line.strip() for line in p.read_text(encoding=\"utf-8\").splitlines() if line.strip()]"
   ]
  },
  {
   "cell_type": "code",
   "execution_count": 3,
   "id": "123b3a4e",
   "metadata": {},
   "outputs": [],
   "source": [
    "# 2) simple normalizer: lowercase + replace urls/emails + normalize punctuation\n",
    "def simple_normalize(s: str) -> str:\n",
    "    s = s.lower()\n",
    "    s = re.sub(r\"https?://\\S+\", \" URL \", s)    # replace urls\n",
    "    s = re.sub(r\"\\S+@\\S+\\.\\S+\", \" EMAIL \", s)  # replace emails\n",
    "    s = s.replace(\"…\", \" \").replace(\"—\", \" \").replace(\"–\", \" \")\n",
    "    return s"
   ]
  },
  {
   "cell_type": "code",
   "execution_count": 5,
   "id": "71ad6d6d",
   "metadata": {},
   "outputs": [],
   "source": [
    "# 3) token pattern: words made of letters/numbers/hyphens\n",
    "TOKEN_RE = re.compile(r\"[a-z0-9\\-]+\")\n",
    "\n",
    "def tokenize(s: str):\n",
    "    return TOKEN_RE.findall(simple_normalize(s))"
   ]
  },
  {
   "cell_type": "code",
   "execution_count": 6,
   "id": "c6dc1e1f",
   "metadata": {},
   "outputs": [
    {
     "name": "stdout",
     "output_type": "stream",
     "text": [
      "doc 0: ['i', 'love', 'apple']\n",
      "doc 1: ['apple', 'loves', 'me']\n",
      "doc 2: ['i', 'love', 'apples', 'and', 'apple', 'loves', 'ai']\n",
      "doc 3: ['great', 'great', 'great', '10', '10']\n",
      "doc 4: ['e-mail', 'visit']\n"
     ]
    }
   ],
   "source": [
    "# 4) tokenize each doc and print\n",
    "\n",
    "for i, d in enumerate(docs):\n",
    "    toks = tokenize(d)\n",
    "    print(f\"doc {i}: {toks}\")"
   ]
  },
  {
   "cell_type": "code",
   "execution_count": null,
   "id": "7f77dfe9",
   "metadata": {},
   "outputs": [],
   "source": []
  }
 ],
 "metadata": {
  "kernelspec": {
   "display_name": "Python (nlp-day3)",
   "language": "python",
   "name": "nlp-day3"
  },
  "language_info": {
   "codemirror_mode": {
    "name": "ipython",
    "version": 3
   },
   "file_extension": ".py",
   "mimetype": "text/x-python",
   "name": "python",
   "nbconvert_exporter": "python",
   "pygments_lexer": "ipython3",
   "version": "3.12.3"
  }
 },
 "nbformat": 4,
 "nbformat_minor": 5
}
