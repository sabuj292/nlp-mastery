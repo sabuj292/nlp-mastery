{
 "cells": [
  {
   "cell_type": "code",
   "execution_count": 2,
   "id": "9745d294",
   "metadata": {},
   "outputs": [],
   "source": [
    "import random\n",
    "import pandas as pd\n",
    "import nltk"
   ]
  },
  {
   "cell_type": "code",
   "execution_count": null,
   "id": "d14794e8",
   "metadata": {},
   "outputs": [
    {
     "name": "stderr",
     "output_type": "stream",
     "text": [
      "[nltk_data] Downloading package twitter_samples to\n",
      "[nltk_data]     C:\\Users\\SkyTech\\AppData\\Roaming\\nltk_data...\n",
      "[nltk_data]   Unzipping corpora\\twitter_samples.zip.\n",
      "[nltk_data] Downloading package punkt to\n",
      "[nltk_data]     C:\\Users\\SkyTech\\AppData\\Roaming\\nltk_data...\n",
      "[nltk_data]   Package punkt is already up-to-date!\n",
      "[nltk_data] Downloading package stopwords to\n",
      "[nltk_data]     C:\\Users\\SkyTech\\AppData\\Roaming\\nltk_data...\n",
      "[nltk_data]   Package stopwords is already up-to-date!\n",
      "[nltk_data] Downloading package averaged_perceptron_tagger to\n",
      "[nltk_data]     C:\\Users\\SkyTech\\AppData\\Roaming\\nltk_data...\n",
      "[nltk_data]   Package averaged_perceptron_tagger is already up-to-\n",
      "[nltk_data]       date!\n",
      "[nltk_data] Downloading package wordnet to\n",
      "[nltk_data]     C:\\Users\\SkyTech\\AppData\\Roaming\\nltk_data...\n",
      "[nltk_data]   Package wordnet is already up-to-date!\n",
      "[nltk_data] Downloading package omw-1.4 to\n",
      "[nltk_data]     C:\\Users\\SkyTech\\AppData\\Roaming\\nltk_data...\n",
      "[nltk_data]   Package omw-1.4 is already up-to-date!\n"
     ]
    },
    {
     "data": {
      "text/plain": [
       "True"
      ]
     },
     "execution_count": 3,
     "metadata": {},
     "output_type": "execute_result"
    }
   ],
   "source": [
    "nltk.download('twitter_samples')\n",
    "# 'twitter_samples' ---> a dataset of sample tweets provided by NLTK\n",
    "# comes with two files ---> \"positive_tweets.json\" and \"negative_tweets.json\"\n",
    "nltk.download('punkt')\n",
    "#  tokenizer model for sentence splitting and word tokenization.\n",
    "nltk.download('stopwords')\n",
    "# list of common words (stopwords) in multiple languages.\n",
    "nltk.download('averaged_perceptron_tagger')\n",
    "# \"averaged_perceptron_tagger\" --> Part-of_Speech (POS) tagger model based on the averaged perceptron algorithm\n",
    "nltk.download('wordnet')\n",
    "#  \"wordnet\"  -----> WordNet lexical database for English\n",
    "# supports lemmatization (WordNetLemmatizer) and synonym/antonym\n",
    "nltk.download('omw-1.4')\n",
    "# Open Multilingual WordNet\n",
    "# Extends WordNet with multilingual support and richer semantic relations.\n",
    "\n",
    "# Example: Translating synonyms into other languages."
   ]
  },
  {
   "cell_type": "code",
   "execution_count": 4,
   "id": "0eb4e005",
   "metadata": {},
   "outputs": [],
   "source": [
    "from nltk.corpus import twitter_samples"
   ]
  },
  {
   "cell_type": "code",
   "execution_count": 5,
   "id": "a7470203",
   "metadata": {},
   "outputs": [],
   "source": [
    "# Load positive and negative tweets (small, clen English sample)\n",
    "pos = twitter_samples.strings('positive_tweets.json')\n",
    "neg = twitter_samples.strings('negative_tweets.json')"
   ]
  },
  {
   "cell_type": "code",
   "execution_count": null,
   "id": "17b95013",
   "metadata": {},
   "outputs": [],
   "source": [
    "# Build a DataFrame\n",
    "df_raw = pd.DataFrame(\n",
    "    {\"label\": [\"pos\"] * len(pos) + [\"neg\"] * len(neg),\n",
    "     \"text\": pos + neg\n",
    "     }\n",
    ")\n",
    "\n",
    "\"\"\"\n",
    "    \"label\": [\"pos\"] * len(pos) + [\"neg\"] * len(neg)\n",
    "        [\"pos\"] * len(pos) → creates a list filled with \"pos\" repeated as many times as the number of positive samples.\n",
    "\n",
    "                Example: If len(pos) = 2, then → [\"pos\", \"pos\"]\n",
    "\n",
    "        [\"neg\"] * len(neg) → creates a list filled with \"neg\" repeated for each negative sample.\n",
    "\n",
    "                Example: If len(neg) = 2, then → [\"neg\", \"neg\"]\n",
    "\n",
    "+ combines these two lists.\n",
    "\n",
    "Example: [\"pos\", \"pos\"] + [\"neg\", \"neg\"] → [\"pos\", \"pos\", \"neg\", \"neg\"]\n",
    "\n",
    "\n",
    "\"\"\""
   ]
  },
  {
   "cell_type": "code",
   "execution_count": null,
   "metadata": {},
   "outputs": [],
   "source": []
  },
  {
   "cell_type": "code",
   "execution_count": null,
   "id": "98184b02",
   "metadata": {},
   "outputs": [],
   "source": []
  }
 ],
 "metadata": {
  "kernelspec": {
   "display_name": "Python (nlp-day3)",
   "language": "python",
   "name": "nlp-day3"
  },
  "language_info": {
   "codemirror_mode": {
    "name": "ipython",
    "version": 3
   },
   "file_extension": ".py",
   "mimetype": "text/x-python",
   "name": "python",
   "nbconvert_exporter": "python",
   "pygments_lexer": "ipython3",
   "version": "3.12.3"
  }
 },
 "nbformat": 4,
 "nbformat_minor": 5
}
